{
  "nbformat": 4,
  "nbformat_minor": 0,
  "metadata": {
    "colab": {
      "name": "1818150_ML_EXP 05.ipynb",
      "provenance": [],
      "collapsed_sections": [],
      "authorship_tag": "ABX9TyPuwdssGq2iSTjicK93kKWl",
      "include_colab_link": true
    },
    "kernelspec": {
      "name": "python3",
      "display_name": "Python 3"
    }
  },
  "cells": [
    {
      "cell_type": "markdown",
      "metadata": {
        "id": "view-in-github",
        "colab_type": "text"
      },
      "source": [
        "<a href=\"https://colab.research.google.com/github/sharmilaraj-26/Machine-Learning/blob/main/1818150_ML_EXP_05.ipynb\" target=\"_parent\"><img src=\"https://colab.research.google.com/assets/colab-badge.svg\" alt=\"Open In Colab\"/></a>"
      ]
    },
    {
      "cell_type": "code",
      "metadata": {
        "colab": {
          "base_uri": "https://localhost:8080/"
        },
        "id": "_09Flret0DGq",
        "outputId": "c9248ac0-6f3e-4e03-f9c5-6972265a7cf2"
      },
      "source": [
        "# importing the libraries\n",
        "import numpy as np\n",
        "from sklearn.datasets import load_breast_cancer\n",
        "data_set= load_breast_cancer()\n",
        "x=data_set.data\n",
        "y=data_set.target\n",
        "# spliting the dataset into the training set and test set\n",
        "from sklearn.model_selection import train_test_split\n",
        "x_train,x_test,y_train,y_test= train_test_split(x,y,test_size=0.25, random_state=25)\n",
        "# feature scaling\n",
        "from sklearn.preprocessing import StandardScaler\n",
        "sca=StandardScaler()\n",
        "x_train=sca.fit_transform(x_train)\n",
        "x_test=sca.transform(x_test)\n",
        "#fitting the k-nm to the training set\n",
        "from sklearn.neighbors import KNeighborsClassifier\n",
        "classifier= KNeighborsClassifier(n_neighbors=5,metric='minkowski',p=2)\n",
        "classifier.fit(x_train,y_train)\n",
        "# predicting the test set results\n",
        "y_pred=classifier.predict(x_test)\n",
        "from sklearn.metrics import accuracy_score\n",
        "print(\"Accuracy level:\", round(accuracy_score(y_test,y_pred),3))\n"
      ],
      "execution_count": null,
      "outputs": [
        {
          "output_type": "stream",
          "text": [
            "Accuracy level: 0.958\n"
          ],
          "name": "stdout"
        }
      ]
    }
  ]
}