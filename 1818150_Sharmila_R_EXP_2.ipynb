{
  "nbformat": 4,
  "nbformat_minor": 0,
  "metadata": {
    "colab": {
      "name": "1818150_Sharmila R_EXP_2",
      "provenance": [],
      "collapsed_sections": [],
      "authorship_tag": "ABX9TyPS8K0raTS8vN5y3EDd+leN",
      "include_colab_link": true
    },
    "kernelspec": {
      "name": "python3",
      "display_name": "Python 3"
    }
  },
  "cells": [
    {
      "cell_type": "markdown",
      "metadata": {
        "id": "view-in-github",
        "colab_type": "text"
      },
      "source": [
        "<a href=\"https://colab.research.google.com/github/sharmilaraj-26/Machine-Learning/blob/main/1818150_Sharmila_R_EXP_2.ipynb\" target=\"_parent\"><img src=\"https://colab.research.google.com/assets/colab-badge.svg\" alt=\"Open In Colab\"/></a>"
      ]
    },
    {
      "cell_type": "code",
      "metadata": {
        "id": "apHXt5Gbut5F"
      },
      "source": [
        "import numpy as np\n",
        "import pandas as pd"
      ],
      "execution_count": null,
      "outputs": []
    },
    {
      "cell_type": "code",
      "metadata": {
        "id": "ld-qfYGO6VGQ"
      },
      "source": [
        "ds=pd.read_csv('/content/gender.csv')\n",
        "x=ds.iloc[:,[1,2]].values\n",
        "y=ds.iloc[:,[0]].values"
      ],
      "execution_count": null,
      "outputs": []
    },
    {
      "cell_type": "code",
      "metadata": {
        "id": "ORCT7SzD6uVA"
      },
      "source": [
        "from sklearn.model_selection import train_test_split\n",
        "x_train,x_test,y_train,y_test=train_test_split(x,y,test_size=0.1,random_state=0)"
      ],
      "execution_count": null,
      "outputs": []
    },
    {
      "cell_type": "code",
      "metadata": {
        "colab": {
          "base_uri": "https://localhost:8080/"
        },
        "id": "_ROFZQlO7In9",
        "outputId": "5d836ad7-bfd1-4c02-dc12-9060fb3b1152"
      },
      "source": [
        "from sklearn.naive_bayes import GaussianNB\n",
        "classifier=GaussianNB()\n",
        "classifier=classifier.fit(x_train,y_train.ravel())\n",
        "print(classifier.predict([[119.0495,14.68254]]))"
      ],
      "execution_count": null,
      "outputs": [
        {
          "output_type": "stream",
          "text": [
            "['Female']\n"
          ],
          "name": "stdout"
        }
      ]
    }
  ]
}